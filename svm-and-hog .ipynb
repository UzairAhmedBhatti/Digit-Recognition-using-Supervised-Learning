{
 "cells": [
  {
   "cell_type": "code",
   "execution_count": null,
   "metadata": {
    "_cell_guid": "1967bea7-aaa1-421a-b026-fcb620722ce9",
    "_uuid": "dcdb7c1e-5dec-4bd1-9d42-74ad7bf44ea5",
    "scrolled": true
   },
   "outputs": [],
   "source": [
    "import numpy as np # linear algebra\n",
    "import pandas as pd # data processing, CSV file I/O (e.g. pd.read_csv)\n",
    "import matplotlib.pyplot as plt\n",
    "import seaborn as sns\n",
    "import cv2\n",
    "from numpy.linalg import norm\n",
    "import datetime\n",
    "from sklearn import svm\n",
    "from sklearn.model_selection import cross_val_score\n",
    "from sklearn.model_selection import train_test_split\n",
    "from sklearn.svm import SVC\n",
    "from sklearn.metrics import confusion_matrix\n",
    "from sklearn.model_selection import validation_curve\n",
    "from sklearn.model_selection import KFold\n",
    "from sklearn.model_selection import cross_val_score\n",
    "from sklearn.model_selection import GridSearchCV\n",
    "import os\n",
    "print(os.listdir(\"./\"))"
   ]
  },
  {
   "cell_type": "code",
   "execution_count": null,
   "metadata": {
    "_cell_guid": "1582430b-fb46-4955-ba14-fe47cfef6258",
    "_kg_hide-input": false,
    "_kg_hide-output": false,
    "_uuid": "04a2342e-28a2-41c7-8d45-e447a4e8d930"
   },
   "outputs": [],
   "source": [
    "#import data and define the classes\n",
    "train_data = pd.read_csv(\"train.csv\")\n",
    "test_data = pd.read_csv(\"test.csv\")\n",
    "class_names = ['0','1','2','3','4','5','6','7','8','9']\n",
    "\n",
    "#print out training data\n",
    "print(train_data.shape)\n",
    "print(train_data.head())"
   ]
  },
  {
   "cell_type": "code",
   "execution_count": null,
   "metadata": {
    "_cell_guid": "e204c435-f7ec-4a5b-af8a-17ea1d2adee4",
    "_uuid": "d4d510c8-ff8c-47b0-a8d0-0f6cc5a684b0"
   },
   "outputs": [],
   "source": [
    "sns.countplot(train_data[\"label\"])"
   ]
  },
  {
   "cell_type": "code",
   "execution_count": null,
   "metadata": {
    "_cell_guid": "5b80291a-db71-4e83-b246-14942fe299e7",
    "_uuid": "0964579b-4f23-49b1-8e6b-8cea74100788"
   },
   "outputs": [],
   "source": [
    "## Visualizing the number of class and counts in the datasets\n",
    "plt.plot(figure = (16,10))\n",
    "g = sns.countplot( train_data[\"label\"], palette = 'icefire')\n",
    "plt.title('Number of digit classes')\n",
    "train_data.label.astype('category').value_counts()"
   ]
  },
  {
   "cell_type": "code",
   "execution_count": null,
   "metadata": {
    "_cell_guid": "30e09aa0-7e12-4b63-92a2-2ff8f7eef42c",
    "_uuid": "bcbd0359-12c6-4a56-92f1-65746ff536b0"
   },
   "outputs": [],
   "source": [
    "# Plotting some samples as well as converting into matrix\n",
    "\n",
    "four = train_data.iloc[3, 1:]\n",
    "four.shape\n",
    "four = four.values.reshape(28,28)\n",
    "plt.imshow(four, cmap='gray')\n",
    "plt.title(\"Digit 4\")"
   ]
  },
  {
   "cell_type": "code",
   "execution_count": null,
   "metadata": {
    "_cell_guid": "dda44c5e-60d4-4b2e-aaef-340aa1ed8fc4",
    "_uuid": "96f5f5f8-82fd-4516-bcb5-93c498a30842"
   },
   "outputs": [],
   "source": [
    "#split out the data into features (pixel values) and categorical labels (digit values 0-9)\n",
    "train_x = train_data.iloc[:,1:].values.astype('int32') # all pixel values\n",
    "train_y = train_data.iloc[:,0].values.astype('int32') # only labels i.e targets digits\n",
    "\n",
    "test_x = test_data.iloc[:,].values.astype('int32') # all pixel values\n",
    "#print(train_y)\n",
    "#reshape the features to be 28x28\n",
    "train_x = train_x.reshape(train_x.shape[:1] + (28, 28, 1))\n",
    "\n",
    "test_x = test_x.reshape(test_x.shape[:1] + (28, 28, 1))\n",
    "\n",
    "#change the labels to be one-hot encoded\n",
    "#train_y = keras.utils.to_categorical(train_y,num_classes=10).astype('int32')\n",
    "\n",
    "# #normalize pixel values using minmax (values between 0 and 1 inclusive)\n",
    "train_x = train_x / 255\n",
    "test_x = test_x / 255"
   ]
  },
  {
   "cell_type": "code",
   "execution_count": null,
   "metadata": {
    "_cell_guid": "73a14ee0-551d-4dae-bc71-49f79b871bf0",
    "_uuid": "6dad3957-57b7-499e-80db-1c58fbceccc2",
    "scrolled": true
   },
   "outputs": [],
   "source": [
    "#plot a first 25 of features and labels to check data\n",
    "plt.figure(figsize=(12,12))\n",
    "for i in range(25):\n",
    "    plt.subplot(5,5,i+1)\n",
    "    plt.xticks([])\n",
    "    plt.yticks([])\n",
    "    plt.grid(False)\n",
    "    plt.imshow(train_x[i].reshape(28, 28), cmap=plt.cm.binary)\n",
    "    plt.xlabel(class_names[train_y[i]],fontsize = 20)\n",
    "plt.show()"
   ]
  },
  {
   "cell_type": "code",
   "execution_count": null,
   "metadata": {
    "_cell_guid": "7e21908b-81b8-4f2b-875e-98902264bbc4",
    "_uuid": "f0f20414-8dbb-448d-af1a-7d2df0817961",
    "scrolled": true
   },
   "outputs": [],
   "source": [
    "# Deskew images ... \n",
    "def deskew(img):\n",
    "    m = cv2.moments(img)\n",
    "    if abs(m['mu02']) < 1e-3:\n",
    "        return img.copy()\n",
    "    skew = m['mu11']/m['mu02']\n",
    "    M = np.float32([[1, skew, -0.5*28*skew], [0, 1, 0]])\n",
    "    img = cv2.warpAffine(img, M, (28, 28), flags=cv2.WARP_INVERSE_MAP | cv2.INTER_LINEAR)\n",
    "    return img"
   ]
  },
  {
   "cell_type": "code",
   "execution_count": null,
   "metadata": {
    "_cell_guid": "9d205354-57ba-4e4b-abab-2cab8c079be8",
    "_uuid": "070bd372-1243-45f4-a8eb-de53e055e08d"
   },
   "outputs": [],
   "source": [
    "train_deskewed = list(map(deskew, train_x))\n",
    "\n",
    "showInd = 0\n",
    "\n",
    "class_name = class_names[train_y[showInd]];\n",
    "\n",
    "plt.figure(figsize=(10,10))\n",
    "plt.subplot(1,2,1)\n",
    "plt.xticks([])\n",
    "plt.yticks([])\n",
    "plt.imshow(train_x[showInd].reshape(28,28), cmap=plt.cm.binary)\n",
    "plt.xlabel('original: ' + class_name,fontsize=20)\n",
    "\n",
    "plt.subplot(1,2,2)\n",
    "plt.xticks([])\n",
    "plt.yticks([])\n",
    "plt.imshow(train_deskewed[showInd], cmap=plt.cm.binary)\n",
    "plt.xlabel('skewed: ' + class_name,fontsize=20)\n",
    "\n",
    "plt.show()"
   ]
  },
  {
   "cell_type": "code",
   "execution_count": null,
   "metadata": {
    "_cell_guid": "8117e496-f750-4b87-b30f-c17a39cf7898",
    "_uuid": "54ee77f4-906d-4d47-9b80-9f92939ddde6"
   },
   "outputs": [],
   "source": [
    "# HoG feature descriptor\n",
    "def HOG(imgs):\n",
    "    hog = cv2.HOGDescriptor((28,28),(8,8),(4,4),(8,8),9,1,-1,0,0.1,1,32, True)\n",
    "    hog_descriptors = []\n",
    "    for img in imgs:\n",
    "        cv_img = np.around(img*255).astype('uint8')\n",
    "        hog_descriptors.append(hog.compute(cv_img))\n",
    "\n",
    "    hog_descriptors = np.squeeze(hog_descriptors)\n",
    "    return hog_descriptors"
   ]
  },
  {
   "cell_type": "code",
   "execution_count": null,
   "metadata": {
    "_cell_guid": "e8c1be25-e668-4ab1-b3f2-086dee688251",
    "_uuid": "54dd0b4e-96b1-4405-8a7c-c6fca380de3e"
   },
   "outputs": [],
   "source": [
    "train_hog = HOG(train_deskewed)\n",
    "\n",
    "plt.figure(figsize=(10,10))\n",
    "plt.subplot(1,2,1)\n",
    "plt.xticks([])\n",
    "plt.yticks([])\n",
    "plt.imshow(train_deskewed[showInd].reshape(28,28), cmap=plt.cm.binary)\n",
    "plt.xlabel('skewed: ' + class_name,fontsize=20)\n",
    "\n",
    "plt.subplot(1,2,2)\n",
    "plt.xticks([])\n",
    "plt.yticks([])\n",
    "plt.imshow(train_hog[showInd].reshape(18,18), cmap=plt.cm.binary)\n",
    "plt.xlabel('HOG: ' + class_name,fontsize=20)\n",
    "\n",
    "plt.show()"
   ]
  },
  {
   "cell_type": "code",
   "execution_count": null,
   "metadata": {
    "_cell_guid": "61a01de8-83aa-4e82-a97a-8ae33765471c",
    "_uuid": "e08d3e5f-547a-4f85-8e1a-31786cc16bcd",
    "scrolled": true
   },
   "outputs": [],
   "source": [
    "# #SVM\n",
    "# class StatModel(object):\n",
    "#     def load(self, fn):\n",
    "#         self.model.load(fn)\n",
    "#     def save(self, fn):\n",
    "#         self.model.save(fn)\n",
    "\n",
    "# class SVM(StatModel):\n",
    "#     def __init__(self, C = 12.5, gamma = 0.5):\n",
    "#         self.model = cv2.ml.SVM_create()\n",
    "#         self.model.setGamma(gamma)\n",
    "#         print(\"The value of Gamma: %.2f \"%gamma)\n",
    "#         self.model.setC(C)\n",
    "#         print(\"The value of C: %.2f\"%C)\n",
    "#         self.model.setKernel(cv2.ml.SVM_RBF)\n",
    "#         self.model.setType(cv2.ml.SVM_C_SVC)\n",
    "\n",
    "#     def train(self, samples, responses):\n",
    "#         self.model.train(samples, cv2.ml.ROW_SAMPLE, responses)\n",
    "\n",
    "#     def predict(self, samples):\n",
    "\n",
    "#         return self.model.predict(samples)[1].ravel()\n",
    "    \n",
    "# print(train_y)\n",
    "# model = SVM()\n",
    "\n",
    "# start_time = datetime.datetime.now()     #放在程序开始处\n",
    "# print('train Begin')\n",
    "# model.train(train_hog, train_y)\n",
    "\n",
    "# end_time = datetime.datetime.now()      #放在程序结尾处\n",
    "# interval = (end_time-start_time).seconds    #以秒的形式\n",
    "# minutes = interval/60  #转换成分钟\n",
    "# seconds = interval%60\n",
    "# print ('train Done: ', int(minutes),':',seconds)"
   ]
  },
  {
   "cell_type": "code",
   "execution_count": null,
   "metadata": {
    "_cell_guid": "cce35f8d-5607-4f83-b044-622a57675fa9",
    "_uuid": "e686b34b-9bc9-472f-b5cd-b0a30f4b942d"
   },
   "outputs": [],
   "source": [
    "#SVM"
   ]
  },
  {
   "cell_type": "code",
   "execution_count": null,
   "metadata": {
    "_cell_guid": "f827cfb5-8d2d-40dc-8228-3a5f8cc48815",
    "_uuid": "ef9c457b-98fb-4564-94de-b70084214aca"
   },
   "outputs": [],
   "source": [
    "# Evaluation cross_validation\n",
    "clf = svm.SVC(kernel='linear', C=8)\n",
    "scores = cross_val_score(clf, train_hog, train_y, cv=5)\n",
    "print(scores)\n",
    "\n",
    "# train_result = model.predict(train_hog)\n",
    "\n",
    "# err = (train_y != train_result).mean()\n",
    "# print('Accuracy: %.2f %%' % ((1 - err)*100))"
   ]
  },
  {
   "cell_type": "code",
   "execution_count": null,
   "metadata": {
    "_cell_guid": "c73cdcd4-a245-499b-baea-85848d1f2e71",
    "_uuid": "9bb2ef4c-d7d0-4c0e-bf19-c7274cc45761"
   },
   "outputs": [],
   "source": [
    "# Evaluation cross_validation\n",
    "clf = svm.SVC(kernel='rbf', C=8)\n",
    "scores = cross_val_score(clf, train_hog, train_y, cv=5)\n",
    "print(scores)\n",
    "\n",
    "# train_result = model.predict(train_hog)\n",
    "\n",
    "# err = (train_y != train_result).mean()\n",
    "# print('Accuracy: %.2f %%' % ((1 - err)*100))"
   ]
  },
  {
   "cell_type": "code",
   "execution_count": null,
   "metadata": {
    "_cell_guid": "50f41891-09ca-40b8-8f4d-4b005d5647d0",
    "_uuid": "d60641d4-0800-4030-ac37-8563ac8a23a8"
   },
   "outputs": [],
   "source": [
    "# Evaluation cross_validation\n",
    "clf = svm.SVC(kernel='sigmoid', C=8)\n",
    "scores = cross_val_score(clf, train_hog, train_y, cv=5)\n",
    "print(scores)\n",
    "\n",
    "# train_result = model.predict(train_hog)\n",
    "\n",
    "# err = (train_y != train_result).mean()\n",
    "# print('Accuracy: %.2f %%' % ((1 - err)*100))"
   ]
  },
  {
   "cell_type": "code",
   "execution_count": null,
   "metadata": {
    "_cell_guid": "6ddfb9e2-174c-4c81-95dd-2fc6d0fa388b",
    "_kg_hide-output": true,
    "_uuid": "32203955-06f7-4122-b770-a71ec4a26b85"
   },
   "outputs": [],
   "source": [
    "#prediction\n",
    "\n",
    "start_time = datetime.datetime.now()     \n",
    "print('train Begin')\n",
    "\n",
    "clf.fit(train_hog, train_y)\n",
    "\n",
    "end_time = datetime.datetime.now()    \n",
    "interval = (end_time-start_time).seconds   \n",
    "minutes = interval/60  \n",
    "seconds = interval%60\n",
    "print ('train Done: ', int(minutes),':',seconds)\n",
    "\n",
    "\n",
    "test_deskewed = list(map(deskew, test_x))\n",
    "test_hog = HOG(test_deskewed)\n",
    "\n",
    "results = clf.predict(test_hog)\n",
    "results = list(map(int, results))\n",
    "\n",
    "#print(results)"
   ]
  },
  {
   "cell_type": "code",
   "execution_count": null,
   "metadata": {
    "_cell_guid": "b35afc8c-3e42-4d0e-8404-5651e142a8bb",
    "_uuid": "eb1dfaf3-e60b-4bae-9250-0a19d597aea0"
   },
   "outputs": [],
   "source": [
    "#save file\n",
    "length = len(results)\n",
    "submission = pd.concat([pd.Series(range(1,length+1),name = \"ImageId\"),pd.Series(results,name=\"Label\")],axis = 1)\n",
    "\n",
    "submission.to_csv(\"finalresult.csv\",index=False)"
   ]
  }
 ],
 "metadata": {
  "kernelspec": {
   "display_name": "Python 3",
   "language": "python",
   "name": "python3"
  },
  "language_info": {
   "codemirror_mode": {
    "name": "ipython",
    "version": 3
   },
   "file_extension": ".py",
   "mimetype": "text/x-python",
   "name": "python",
   "nbconvert_exporter": "python",
   "pygments_lexer": "ipython3",
   "version": "3.7.4"
  }
 },
 "nbformat": 4,
 "nbformat_minor": 4
}
