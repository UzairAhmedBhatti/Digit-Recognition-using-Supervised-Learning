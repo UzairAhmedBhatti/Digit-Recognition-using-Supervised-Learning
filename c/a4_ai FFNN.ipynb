{
  "nbformat": 4,
  "nbformat_minor": 0,
  "metadata": {
    "colab": {
      "name": "a4_ai.ipynb",
      "provenance": []
    },
    "kernelspec": {
      "name": "python3",
      "display_name": "Python 3"
    },
    "accelerator": "GPU"
  },
  "cells": [
    {
      "cell_type": "code",
      "metadata": {
        "id": "QejMSMPy-Ibd",
        "colab_type": "code",
        "colab": {}
      },
      "source": [
        "# This classifies Mnist digits\n",
        "\n",
        "!pip install tensorflow keras numpy mnist matplotlib\n"
      ],
      "execution_count": 0,
      "outputs": []
    },
    {
      "cell_type": "code",
      "metadata": {
        "id": "pQ4CyQP7_rci",
        "colab_type": "code",
        "colab": {}
      },
      "source": [
        "#import packages\n",
        "import numpy as np\n",
        "import mnist #get the data set\n",
        "import matplotlib.pyplot as plt #graph\n",
        "from keras.models import Sequential #ANN achtecture\n",
        "from keras.layers import Dense #layers in ANN\n",
        "from keras.utils import to_categorical\n"
      ],
      "execution_count": 0,
      "outputs": []
    },
    {
      "cell_type": "code",
      "metadata": {
        "id": "Oy3XjsFqA0k6",
        "colab_type": "code",
        "colab": {}
      },
      "source": [
        "#load the data set\n",
        "train_images= mnist.train_images() #training data images\n",
        "train_labels= mnist.train_labels() #training data labels\n",
        "test_images=mnist.test_images() #training data images\n",
        "test_labels=mnist.test_labels() #training data labels\n"
      ],
      "execution_count": 0,
      "outputs": []
    },
    {
      "cell_type": "code",
      "metadata": {
        "id": "bJ1LiasPCMMM",
        "colab_type": "code",
        "outputId": "1ff3b404-2f1a-4072-a400-63e97e8a762a",
        "colab": {
          "base_uri": "https://localhost:8080/",
          "height": 51
        }
      },
      "source": [
        "#normalize the images. normalize the pixel values from [0,255] to\n",
        "# [-0.5,0.5] to make out network easier to train\n",
        "train_images= (train_images/255) - 0.5\n",
        "test_images= (test_images/255)-0.5\n",
        "#flatten the images. each 28x28 image into a 28^2 = 784 dimensioanl vector\n",
        "#to pass into the neural network\n",
        "train_images=train_images.reshape((-1,784))\n",
        "test_images=test_images.reshape((-1,784))\n",
        "print(train_images.shape) #60k rows and 784 cols \n",
        "print(test_images.shape) #10k rows and 784 cols"
      ],
      "execution_count": 0,
      "outputs": [
        {
          "output_type": "stream",
          "text": [
            "(60000, 784)\n",
            "(10000, 784)\n"
          ],
          "name": "stdout"
        }
      ]
    },
    {
      "cell_type": "code",
      "metadata": {
        "id": "LZQIe5WhFj4g",
        "colab_type": "code",
        "colab": {}
      },
      "source": [
        "#build the model\n",
        "# 3 layers, 2 layers with 64 neurons and relu function\n",
        "# 1 layer with 10 nerons and softmax function\n",
        "model= Sequential()\n",
        "\n",
        "model.add(Dense(12,activation='relu',input_dim=784)) #simple step-wise function\n",
        "model.add(Dense(12,activation='relu'))\n",
        "model.add(Dense(10,activation='softmax'))#Outputs probability"
      ],
      "execution_count": 0,
      "outputs": []
    },
    {
      "cell_type": "markdown",
      "metadata": {
        "id": "kRgfX0S5-0PF",
        "colab_type": "text"
      },
      "source": [
        ""
      ]
    },
    {
      "cell_type": "code",
      "metadata": {
        "id": "arcpPLahNiSc",
        "colab_type": "code",
        "colab": {}
      },
      "source": [
        "#compile the model\n",
        "#the lost function measures how well the model did on the training, and tries\n",
        "#to improve on it using optimizer\n",
        "model.compile(\n",
        "    optimizer='adam',\n",
        "    loss='categorical_crossentropy',# (for more than 2 classes)\n",
        "    metrics=['accuracy']\n",
        ")"
      ],
      "execution_count": 0,
      "outputs": []
    },
    {
      "cell_type": "code",
      "metadata": {
        "id": "_JLePk2ZP0MF",
        "colab_type": "code",
        "outputId": "e350e172-0e8c-48c4-d8ef-2eaf1dc83cde",
        "colab": {
          "base_uri": "https://localhost:8080/",
          "height": 204
        }
      },
      "source": [
        "#train the model\n",
        "model.fit(\n",
        "    train_images,\n",
        "    to_categorical(train_labels), #ex 2 it expects[0,0,1,0,0,0,0,0,0,0]\n",
        "       epochs = 5, #nmber of iterartions ove the entire dataset to train on\n",
        "       batch_size=32 #number of sample per gradient update for training\n",
        ")"
      ],
      "execution_count": 0,
      "outputs": [
        {
          "output_type": "stream",
          "text": [
            "Epoch 1/5\n",
            "60000/60000 [==============================] - 6s 92us/step - loss: 0.8603 - accuracy: 0.7206\n",
            "Epoch 2/5\n",
            "60000/60000 [==============================] - 5s 81us/step - loss: 0.5197 - accuracy: 0.8480\n",
            "Epoch 3/5\n",
            "60000/60000 [==============================] - 5s 81us/step - loss: 0.4490 - accuracy: 0.8696\n",
            "Epoch 4/5\n",
            "60000/60000 [==============================] - 5s 81us/step - loss: 0.4066 - accuracy: 0.8821\n",
            "Epoch 5/5\n",
            "60000/60000 [==============================] - 5s 82us/step - loss: 0.3834 - accuracy: 0.8877\n"
          ],
          "name": "stdout"
        },
        {
          "output_type": "execute_result",
          "data": {
            "text/plain": [
              "<keras.callbacks.callbacks.History at 0x7f2092aa3ef0>"
            ]
          },
          "metadata": {
            "tags": []
          },
          "execution_count": 97
        }
      ]
    },
    {
      "cell_type": "code",
      "metadata": {
        "id": "EynD_EQmQ3ms",
        "colab_type": "code",
        "outputId": "75910757-6995-4ab3-8673-06e346833b13",
        "colab": {
          "base_uri": "https://localhost:8080/",
          "height": 51
        }
      },
      "source": [
        "#eval the mode\n",
        "model.evaluate(\n",
        "    test_images,\n",
        "    to_categorical(test_labels)\n",
        ")"
      ],
      "execution_count": 0,
      "outputs": [
        {
          "output_type": "stream",
          "text": [
            "10000/10000 [==============================] - 0s 46us/step\n"
          ],
          "name": "stdout"
        },
        {
          "output_type": "execute_result",
          "data": {
            "text/plain": [
              "[0.37406126571297643, 0.8863999843597412]"
            ]
          },
          "metadata": {
            "tags": []
          },
          "execution_count": 98
        }
      ]
    },
    {
      "cell_type": "code",
      "metadata": {
        "id": "uz3LcigYRRiZ",
        "colab_type": "code",
        "colab": {}
      },
      "source": [
        "#model.save_weights('model.h5')"
      ],
      "execution_count": 0,
      "outputs": []
    },
    {
      "cell_type": "code",
      "metadata": {
        "id": "CVs0-uEyRibL",
        "colab_type": "code",
        "colab": {}
      },
      "source": [
        "#predict on the first 50 test images\n",
        "predictions=model.predict(test_images[:10])\n",
        "print(np.argmax(predictions,axis=1))\n",
        "print(test_labels[:10])"
      ],
      "execution_count": 0,
      "outputs": []
    }
  ]
}